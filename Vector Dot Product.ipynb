{
 "cells": [
  {
   "cell_type": "code",
   "execution_count": 2,
   "id": "9d3a406b",
   "metadata": {},
   "outputs": [],
   "source": [
    "import numpy as np"
   ]
  },
  {
   "cell_type": "code",
   "execution_count": 3,
   "id": "1fb1d5c1",
   "metadata": {},
   "outputs": [],
   "source": [
    "u = np.array([2, 3])\n",
    "v = np.array([-1, 4])"
   ]
  },
  {
   "cell_type": "markdown",
   "id": "2ca7e843",
   "metadata": {},
   "source": [
    "## Vector Addition"
   ]
  },
  {
   "cell_type": "code",
   "execution_count": 5,
   "id": "5de1f37b",
   "metadata": {},
   "outputs": [
    {
     "name": "stdout",
     "output_type": "stream",
     "text": [
      "[1 7]\n"
     ]
    }
   ],
   "source": [
    "vector_addition = u + v\n",
    "print( vector_addition)"
   ]
  },
  {
   "cell_type": "markdown",
   "id": "611b6fa0",
   "metadata": {},
   "source": [
    "## Vector Scalar Multiplication"
   ]
  },
  {
   "cell_type": "code",
   "execution_count": 13,
   "id": "d2837f7f",
   "metadata": {
    "scrolled": true
   },
   "outputs": [
    {
     "name": "stdout",
     "output_type": "stream",
     "text": [
      "[6 9]\n"
     ]
    }
   ],
   "source": [
    "u = np.array([2, 3])\n",
    "scalar_multiplication = 3 * u\n",
    "print(scalar_multiplication)"
   ]
  },
  {
   "cell_type": "markdown",
   "id": "30c4e391",
   "metadata": {},
   "source": [
    "## Vector Dot Product"
   ]
  },
  {
   "cell_type": "code",
   "execution_count": 8,
   "id": "26e2c6ca",
   "metadata": {
    "scrolled": true
   },
   "outputs": [
    {
     "name": "stdout",
     "output_type": "stream",
     "text": [
      "Dot Product of a and b: 32\n"
     ]
    }
   ],
   "source": [
    "a = np.array([1, 2, 3])\n",
    "b = np.array([4, 5, 6])\n",
    "\n",
    "# Dot Product\n",
    "dot_product_ab = np.dot(a, b)\n",
    "print(\"Dot Product of a and b:\", dot_product_ab)"
   ]
  },
  {
   "cell_type": "markdown",
   "id": "612cb2dc",
   "metadata": {},
   "source": [
    "## Vector Distributive Property\n",
    "\n",
    "One fundamental property of vector dot product is its distributivity over vector addition. \n",
    "\n",
    "Mathematically, for vectors 𝐮, 𝐯, and 𝐰, the distributive property is defined as follows:\n",
    "\n",
    "𝐮 ⋅ (𝐯 + 𝐰) = 𝐮 ⋅ 𝐯 + 𝐮 ⋅ 𝐰"
   ]
  },
  {
   "cell_type": "code",
   "execution_count": null,
   "id": "83e12d47",
   "metadata": {},
   "outputs": [],
   "source": [
    "u = np.array([2, 3])\n",
    "v = np.array([4, 1])\n",
    "w = np.array([5, 2])\n",
    "\n",
    "# Distributive Property\n",
    "lhs = np.dot(u, v + w)\n",
    "rhs = np.dot(u, v) + np.dot(u, w)\n",
    "print(\"Distributive Property:\", lhs == rhs)"
   ]
  },
  {
   "cell_type": "markdown",
   "id": "6be619c3",
   "metadata": {},
   "source": [
    "## Vector Non-Associative Property\n",
    "\n",
    "Unlike the distributive property, the dot product is non-associative. In other words, for vectors 𝐮, 𝐯, and 𝐰, it's crucial to note that:\n",
    "\n",
    "(𝐮 ⋅ 𝐯) ⋅ 𝐰 ≠ 𝐮 ⋅ (𝐯 ⋅ 𝐰)\n",
    "\n",
    "This property emphasizes that the order in which you perform dot products matters. "
   ]
  },
  {
   "cell_type": "code",
   "execution_count": null,
   "id": "766e327f",
   "metadata": {},
   "outputs": [],
   "source": [
    "x = np.array([1, 2])\n",
    "y = np.array([3, 4])\n",
    "z = np.array([5, 6])\n",
    "\n",
    "# Non-Associative Property\n",
    "lhs_non_associative = np.dot(np.dot(x, y), z)\n",
    "rhs_non_associative = np.dot(x, np.dot(y, z))\n",
    "print(\"Non-Associative Property:\", lhs_non_associative != rhs_non_associative)"
   ]
  },
  {
   "cell_type": "markdown",
   "id": "aa43ccfb",
   "metadata": {},
   "source": [
    "## Applications of Dot Product"
   ]
  },
  {
   "cell_type": "code",
   "execution_count": null,
   "id": "2bf31f24",
   "metadata": {},
   "outputs": [],
   "source": [
    "p = np.array([1, 2])\n",
    "q = np.array([-2, 1])\n",
    "\n",
    "# Angle between vectors\n",
    "cos_theta = np.dot(p, q) / (np.linalg.norm(p) * np.linalg.norm(q))\n",
    "theta = np.arccos(cos_theta)\n",
    "print(\"Angle between p and q:\", np.degrees(theta), \"degrees\")"
   ]
  },
  {
   "cell_type": "markdown",
   "id": "4f82b9c7",
   "metadata": {},
   "source": [
    "## Orthogonal Vectors\n",
    "\n",
    "If dot product of two vectors are zero then they are called orthogonal vectors.\n",
    "\n",
    "It also means they are perpendicular to each other."
   ]
  },
  {
   "cell_type": "code",
   "execution_count": 14,
   "id": "c90bb378",
   "metadata": {},
   "outputs": [
    {
     "name": "stdout",
     "output_type": "stream",
     "text": [
      "Orthogonality Check: True\n"
     ]
    }
   ],
   "source": [
    "u = np.array([1, -1])\n",
    "v = np.array([2, 2])\n",
    "\n",
    "# Orthogonality check\n",
    "orthogonal_check = np.dot(u, v) == 0\n",
    "print(\"Orthogonality Check:\", orthogonal_check)"
   ]
  }
 ],
 "metadata": {
  "kernelspec": {
   "display_name": "Python 3 (ipykernel)",
   "language": "python",
   "name": "python3"
  },
  "language_info": {
   "codemirror_mode": {
    "name": "ipython",
    "version": 3
   },
   "file_extension": ".py",
   "mimetype": "text/x-python",
   "name": "python",
   "nbconvert_exporter": "python",
   "pygments_lexer": "ipython3",
   "version": "3.11.5"
  }
 },
 "nbformat": 4,
 "nbformat_minor": 5
}
